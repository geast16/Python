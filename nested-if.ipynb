{
 "cells": [
  {
   "cell_type": "code",
   "execution_count": null,
   "metadata": {},
   "outputs": [],
   "source": [
    "answer_a = input(\"Do you like traveling? y/n: \")\n",
    "if answer_a == 'y':\n",
    "    answer_b = input(\"And do you like Asia? y/n: \")\n",
    "    if answer_b == 'y':\n",
    "        print(\"Excellent! You can win a ticket to Thailand!\")\n",
    "    else:\n",
    "        print(\"Sorry to hear that my guy!\")\n",
    "else:\n",
    "    print(\"Sorry to hear that my guy!\")"
   ]
  }
 ],
 "metadata": {
  "kernelspec": {
   "display_name": "Python 3",
   "language": "python",
   "name": "python3"
  },
  "language_info": {
   "codemirror_mode": {
    "name": "ipython",
    "version": 3
   },
   "file_extension": ".py",
   "mimetype": "text/x-python",
   "name": "python",
   "nbconvert_exporter": "python",
   "pygments_lexer": "ipython3",
   "version": "3.10.11"
  }
 },
 "nbformat": 4,
 "nbformat_minor": 2
}
